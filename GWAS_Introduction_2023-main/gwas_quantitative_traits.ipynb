{
  "nbformat": 4,
  "nbformat_minor": 0,
  "metadata": {
    "colab": {
      "provenance": [],
      "authorship_tag": "ABX9TyOECe4GM5goaWPlRbNoT55y",
      "include_colab_link": true
    },
    "kernelspec": {
      "name": "python3",
      "display_name": "Python 3"
    },
    "language_info": {
      "name": "python"
    }
  },
  "cells": [
    {
      "cell_type": "markdown",
      "metadata": {
        "id": "view-in-github",
        "colab_type": "text"
      },
      "source": [
        "<a href=\"https://colab.research.google.com/github/luuloi/GWAS_Introduction_2023/blob/main/gwas_quantitative_traits.ipynb\" target=\"_parent\"><img src=\"https://colab.research.google.com/assets/colab-badge.svg\" alt=\"Open In Colab\"/></a>"
      ]
    },
    {
      "cell_type": "markdown",
      "source": [
        "# Prepare session by install necessary packages"
      ],
      "metadata": {
        "id": "7SKgzQhF06FY"
      }
    },
    {
      "cell_type": "code",
      "source": [
        "!pip install rpy2\n",
        "!pip install -q condacolab"
      ],
      "metadata": {
        "id": "A5HGA8Fb0ylO",
        "colab": {
          "base_uri": "https://localhost:8080/",
          "height": 571
        },
        "outputId": "83101656-6aec-4503-95ea-fc6209116a3f"
      },
      "execution_count": 26,
      "outputs": [
        {
          "output_type": "stream",
          "name": "stdout",
          "text": [
            "Collecting rpy2\n",
            "  Downloading rpy2-3.5.13.tar.gz (218 kB)\n",
            "\u001b[?25l     \u001b[90m━━━━━━━━━━━━━━━━━━━━━━━━━━━━━━━━━━━━━━━━\u001b[0m \u001b[32m0.0/218.8 kB\u001b[0m \u001b[31m?\u001b[0m eta \u001b[36m-:--:--\u001b[0m\r\u001b[2K     \u001b[90m━━━━━━━━━━━━━━━━━━━━━━━━━━━━━━━━━━━━━━━\u001b[0m \u001b[32m218.8/218.8 kB\u001b[0m \u001b[31m9.9 MB/s\u001b[0m eta \u001b[36m0:00:00\u001b[0m\n",
            "\u001b[?25h  Installing build dependencies ... \u001b[?25l\u001b[?25hdone\n",
            "  Getting requirements to build wheel ... \u001b[?25l\u001b[?25hdone\n",
            "  Preparing metadata (pyproject.toml) ... \u001b[?25l\u001b[?25hdone\n",
            "Collecting jinja2\n",
            "  Downloading Jinja2-3.1.2-py3-none-any.whl (133 kB)\n",
            "\u001b[2K     \u001b[90m━━━━━━━━━━━━━━━━━━━━━━━━━━━━━━━━━━━━━━\u001b[0m \u001b[32m133.1/133.1 kB\u001b[0m \u001b[31m14.7 MB/s\u001b[0m eta \u001b[36m0:00:00\u001b[0m\n",
            "\u001b[?25hCollecting tzlocal\n",
            "  Downloading tzlocal-5.0.1-py3-none-any.whl (20 kB)\n",
            "Requirement already satisfied: cffi>=1.10.0 in /usr/local/lib/python3.10/site-packages (from rpy2) (1.15.1)\n",
            "Requirement already satisfied: pycparser in /usr/local/lib/python3.10/site-packages (from cffi>=1.10.0->rpy2) (2.21)\n",
            "Collecting MarkupSafe>=2.0\n",
            "  Downloading MarkupSafe-2.1.3-cp310-cp310-manylinux_2_17_x86_64.manylinux2014_x86_64.whl (25 kB)\n",
            "Building wheels for collected packages: rpy2\n",
            "  Building wheel for rpy2 (pyproject.toml) ... \u001b[?25l\u001b[?25hdone\n",
            "  Created wheel for rpy2: filename=rpy2-3.5.13-cp310-cp310-linux_x86_64.whl size=262728 sha256=604b7a6fb4c9c2c27a22f38a29a4f0187eb3442f5cc520fac7ff88eb2bcffcd7\n",
            "  Stored in directory: /root/.cache/pip/wheels/b3/10/14/333faaf40f9cd461b2cd5a785a32d593b88e08b1834f081bd5\n",
            "Successfully built rpy2\n",
            "Installing collected packages: tzlocal, MarkupSafe, jinja2, rpy2\n",
            "Successfully installed MarkupSafe-2.1.3 jinja2-3.1.2 rpy2-3.5.13 tzlocal-5.0.1\n",
            "\u001b[33mWARNING: Running pip as the 'root' user can result in broken permissions and conflicting behaviour with the system package manager. It is recommended to use a virtual environment instead: https://pip.pypa.io/warnings/venv\u001b[0m\u001b[33m\n",
            "\u001b[0m"
          ]
        },
        {
          "output_type": "display_data",
          "data": {
            "application/vnd.colab-display-data+json": {
              "pip_warning": {
                "packages": [
                  "jinja2",
                  "markupsafe",
                  "tzlocal"
                ]
              }
            }
          },
          "metadata": {}
        },
        {
          "output_type": "stream",
          "name": "stdout",
          "text": [
            "\u001b[33mWARNING: Running pip as the 'root' user can result in broken permissions and conflicting behaviour with the system package manager. It is recommended to use a virtual environment instead: https://pip.pypa.io/warnings/venv\u001b[0m\u001b[33m\n",
            "\u001b[0m"
          ]
        }
      ]
    },
    {
      "cell_type": "code",
      "source": [
        "# Ignore rpy2's warnings\n",
        "\n",
        "import warnings\n",
        "from rpy2.rinterface import RRuntimeWarning\n",
        "\n",
        "warnings.filterwarnings(\"ignore\", category=RRuntimeWarning)"
      ],
      "metadata": {
        "id": "scD2EeD9_fme"
      },
      "execution_count": 27,
      "outputs": []
    },
    {
      "cell_type": "code",
      "source": [
        "# Initialize conda\n",
        "\n",
        "import condacolab\n",
        "condacolab.install()"
      ],
      "metadata": {
        "id": "a3kXfJv70-5r",
        "colab": {
          "base_uri": "https://localhost:8080/"
        },
        "outputId": "736b82cb-548e-4a61-b25b-ae12245802a1"
      },
      "execution_count": 28,
      "outputs": [
        {
          "output_type": "stream",
          "name": "stdout",
          "text": [
            "✨🍰✨ Everything looks OK!\n"
          ]
        }
      ]
    },
    {
      "cell_type": "code",
      "source": [
        "# Install plink, bedtools\n",
        "\n",
        "!conda install -c bioconda plink\n",
        "!conda install -c bioconda bedtools"
      ],
      "metadata": {
        "colab": {
          "base_uri": "https://localhost:8080/"
        },
        "id": "s3IDHAqL3QaM",
        "outputId": "a674c41f-450c-47ad-a81d-7bc8fd0ed3a1"
      },
      "execution_count": 43,
      "outputs": [
        {
          "output_type": "stream",
          "name": "stdout",
          "text": [
            "Collecting package metadata (current_repodata.json): - \b\b\\ \b\b| \b\b/ \b\b- \b\b\\ \b\b| \b\b/ \b\b- \b\b\\ \b\b| \b\b/ \b\b- \b\b\\ \b\b| \b\b/ \b\b- \b\b\\ \b\b| \b\b/ \b\b- \b\b\\ \b\b| \b\b/ \b\b- \b\b\\ \b\b| \b\b/ \b\b- \b\b\\ \b\b| \b\b/ \b\b- \b\b\\ \b\b| \b\bdone\n",
            "Solving environment: - \b\b\\ \b\b| \b\b/ \b\b- \b\b\\ \b\b| \b\b/ \b\b- \b\b\\ \b\b| \b\b/ \b\b- \b\b\\ \b\bdone\n",
            "\n",
            "\n",
            "==> WARNING: A newer version of conda exists. <==\n",
            "  current version: 23.1.0\n",
            "  latest version: 23.7.2\n",
            "\n",
            "Please update conda by running\n",
            "\n",
            "    $ conda update -n base -c conda-forge conda\n",
            "\n",
            "Or to minimize the number of packages updated during conda update use\n",
            "\n",
            "     conda install conda=23.7.2\n",
            "\n",
            "\n",
            "\n",
            "# All requested packages already installed.\n",
            "\n",
            "Collecting package metadata (current_repodata.json): - \b\b\\ \b\b| \b\b/ \b\b- \b\b\\ \b\b| \b\b/ \b\b- \b\b\\ \b\b| \b\b/ \b\b- \b\b\\ \b\b| \b\b/ \b\b- \b\b\\ \b\b| \b\b/ \b\bdone\n",
            "Solving environment: \\ \b\b| \b\b/ \b\b- \b\b\\ \b\b| \b\b/ \b\b- \b\b\\ \b\b| \b\b/ \b\b- \b\b\\ \b\b| \b\b/ \b\bdone\n",
            "\n",
            "\n",
            "==> WARNING: A newer version of conda exists. <==\n",
            "  current version: 23.1.0\n",
            "  latest version: 23.7.2\n",
            "\n",
            "Please update conda by running\n",
            "\n",
            "    $ conda update -n base -c conda-forge conda\n",
            "\n",
            "Or to minimize the number of packages updated during conda update use\n",
            "\n",
            "     conda install conda=23.7.2\n",
            "\n",
            "\n",
            "\n",
            "## Package Plan ##\n",
            "\n",
            "  environment location: /usr/local\n",
            "\n",
            "  added / updated specs:\n",
            "    - bedtools\n",
            "\n",
            "\n",
            "The following packages will be downloaded:\n",
            "\n",
            "    package                    |            build\n",
            "    ---------------------------|-----------------\n",
            "    bedtools-2.31.0            |       hf5e1c6e_2         1.5 MB  bioconda\n",
            "    ------------------------------------------------------------\n",
            "                                           Total:         1.5 MB\n",
            "\n",
            "The following NEW packages will be INSTALLED:\n",
            "\n",
            "  bedtools           bioconda/linux-64::bedtools-2.31.0-hf5e1c6e_2 \n",
            "\n",
            "\n",
            "\n",
            "Downloading and Extracting Packages\n",
            "                                                                        \n",
            "Preparing transaction: \\ \b\bdone\n",
            "Verifying transaction: / \b\bdone\n",
            "Executing transaction: \\ \b\bdone\n"
          ]
        }
      ]
    },
    {
      "cell_type": "markdown",
      "source": [
        "# Set up R environment by installing required packages."
      ],
      "metadata": {
        "id": "WiOPlMmtFe_w"
      }
    },
    {
      "cell_type": "markdown",
      "source": [
        "Load `rpy2`"
      ],
      "metadata": {
        "id": "U-QQIimc1IYS"
      }
    },
    {
      "cell_type": "code",
      "source": [
        "%load_ext rpy2.ipython"
      ],
      "metadata": {
        "id": "9Bj1-Nl11GCP",
        "colab": {
          "base_uri": "https://localhost:8080/"
        },
        "outputId": "94128a09-17a4-4d50-d9d9-411a147bf63d"
      },
      "execution_count": 30,
      "outputs": [
        {
          "output_type": "stream",
          "name": "stdout",
          "text": [
            "The rpy2.ipython extension is already loaded. To reload it, use:\n",
            "  %reload_ext rpy2.ipython\n"
          ]
        }
      ]
    },
    {
      "cell_type": "markdown",
      "source": [
        "`pacman` will make your life easier and I have include `BiocManager` for bio-oriented packages."
      ],
      "metadata": {
        "id": "aRwL8PiRFlp0"
      }
    },
    {
      "cell_type": "code",
      "execution_count": 31,
      "metadata": {
        "id": "HDe1tVAzrtTK",
        "colab": {
          "base_uri": "https://localhost:8080/"
        },
        "outputId": "5eae5b42-527c-4203-be12-6167c2943271"
      },
      "outputs": [
        {
          "output_type": "stream",
          "name": "stderr",
          "text": [
            "R[write to console]: Loading required package: pacman\n",
            "\n"
          ]
        }
      ],
      "source": [
        "%%R\n",
        "if (!require(\"pacman\")) install.packages(\"pacman\")\n",
        "library(\"pacman\")\n",
        "if (!requireNamespace(\"BiocManager\", quietly = TRUE))\n",
        "    install.packages(\"BiocManager\")\n",
        "\n",
        "# Function to check and install missing packages\n",
        "check_and_install_packages <- function(packages) {\n",
        "    for (package in packages) {\n",
        "        if (!require(package, character.only = TRUE)) {\n",
        "            if (package %in% rownames(available.packages(repos = BiocManager::repositories())))\n",
        "                BiocManager::install(package, character.only = TRUE)\n",
        "        else\n",
        "            install.packages(package, character.only = TRUE)\n",
        "        require(package, character.only = TRUE)\n",
        "        }\n",
        "    }\n",
        "}"
      ]
    },
    {
      "cell_type": "markdown",
      "source": [
        "We will use the following packages for today lecture.\n",
        "\n",
        "* [qqman](https://cran.r-project.org/web/packages/qqman/vignettes/qqman.html)\n",
        "* [SKAT](https://cran.r-project.org/web/packages/SKAT/index.html)\n",
        "* [GWASTools](https://bioconductor.org/packages/release/bioc/manuals/GWASTools/man/GWASTools.pdf)\n",
        "* [gdsfmt](https://bioconductor.org/packages/release/bioc/manuals/gdsfmt/man/gdsfmt.pdf)\n",
        "* [SNPRelate](https://www.bioconductor.org/packages/release/bioc/manuals/SNPRelate/man/SNPRelate.pdf)\n",
        "* [GENESIS](https://bioconductor.org/packages/release/bioc/manuals/GENESIS/man/GENESIS.pdf)"
      ],
      "metadata": {
        "id": "E3_1ARqvF706"
      }
    },
    {
      "cell_type": "code",
      "source": [
        "%%R\n",
        "check_and_install_packages(c(\"qqman\", \"SKAT\", \"GWASTools\", \"SNPRelate\", \"GENESIS\"))"
      ],
      "metadata": {
        "id": "g5b_SFymr4eQ",
        "colab": {
          "base_uri": "https://localhost:8080/"
        },
        "outputId": "764417f9-c380-42c0-d4c4-03b513e8c949"
      },
      "execution_count": 32,
      "outputs": [
        {
          "output_type": "stream",
          "name": "stderr",
          "text": [
            "R[write to console]: Loading required package: qqman\n",
            "\n",
            "R[write to console]: \n",
            "\n",
            "R[write to console]: For example usage please run: vignette('qqman')\n",
            "\n",
            "R[write to console]: \n",
            "\n",
            "R[write to console]: Citation appreciated but not required:\n",
            "\n",
            "R[write to console]: Turner, (2018). qqman: an R package for visualizing GWAS results using Q-Q and manhattan plots. Journal of Open Source Software, 3(25), 731, https://doi.org/10.21105/joss.00731.\n",
            "\n",
            "R[write to console]: \n",
            "\n",
            "R[write to console]: Loading required package: SKAT\n",
            "\n",
            "R[write to console]: Loading required package: Matrix\n",
            "\n",
            "R[write to console]: Loading required package: SPAtest\n",
            "\n",
            "R[write to console]: Loading required package: RSpectra\n",
            "\n",
            "R[write to console]: Loading required package: GWASTools\n",
            "\n",
            "R[write to console]: Loading required package: Biobase\n",
            "\n",
            "R[write to console]: Loading required package: BiocGenerics\n",
            "\n",
            "R[write to console]: \n",
            "Attaching package: ‘BiocGenerics’\n",
            "\n",
            "\n",
            "R[write to console]: The following objects are masked from ‘package:stats’:\n",
            "\n",
            "    IQR, mad, sd, var, xtabs\n",
            "\n",
            "\n",
            "R[write to console]: The following objects are masked from ‘package:base’:\n",
            "\n",
            "    anyDuplicated, aperm, append, as.data.frame, basename, cbind,\n",
            "    colnames, dirname, do.call, duplicated, eval, evalq, Filter, Find,\n",
            "    get, grep, grepl, intersect, is.unsorted, lapply, Map, mapply,\n",
            "    match, mget, order, paste, pmax, pmax.int, pmin, pmin.int,\n",
            "    Position, rank, rbind, Reduce, rownames, sapply, setdiff, sort,\n",
            "    table, tapply, union, unique, unsplit, which.max, which.min\n",
            "\n",
            "\n",
            "R[write to console]: Welcome to Bioconductor\n",
            "\n",
            "    Vignettes contain introductory material; view with\n",
            "    'browseVignettes()'. To cite Bioconductor, see\n",
            "    'citation(\"Biobase\")', and for packages 'citation(\"pkgname\")'.\n",
            "\n",
            "\n",
            "R[write to console]: Loading required package: SNPRelate\n",
            "\n",
            "R[write to console]: Loading required package: gdsfmt\n",
            "\n",
            "R[write to console]: SNPRelate -- supported by Streaming SIMD Extensions 2 (SSE2)\n",
            "\n",
            "R[write to console]: Loading required package: GENESIS\n",
            "\n"
          ]
        }
      ]
    },
    {
      "cell_type": "markdown",
      "source": [
        "# Load data"
      ],
      "metadata": {
        "id": "ytv3R8Ofr8yS"
      }
    },
    {
      "cell_type": "markdown",
      "source": [
        "Read directly from URL"
      ],
      "metadata": {
        "id": "8m-nQCJrWnrn"
      }
    },
    {
      "cell_type": "code",
      "source": [
        "%%R\n",
        "# Function to read and display data\n",
        "read_and_display <- function(file_path, col_names=NULL, sep=\" \", header=FALSE) {\n",
        "  data <- read.table(file=file_path, sep=sep, header=header, na.strings=\"NA\")\n",
        "  if (!is.null(col_names)) {\n",
        "    names(data) <- col_names\n",
        "  }\n",
        "\n",
        "  cat(\"\\n--- Head of the Data ---\\n\")\n",
        "  print(head(data))\n",
        "  cat(\"\\n--- Dimensions of the Data ---\\n\")\n",
        "  print(dim(data))\n",
        "\n",
        "  return(data)\n",
        "}"
      ],
      "metadata": {
        "id": "9rs3NlpQ6mpP"
      },
      "execution_count": 33,
      "outputs": []
    },
    {
      "cell_type": "code",
      "source": [
        "%%R\n",
        "# Read and display Transferrin individuals' info\n",
        "fam_info <- read_and_display(\"https://faculty.washington.edu/tathornt/sisg/Transferrin.fam\")"
      ],
      "metadata": {
        "colab": {
          "base_uri": "https://localhost:8080/"
        },
        "id": "IVpj2s5A9GlK",
        "outputId": "e3bd0e48-eff6-4b63-ef96-e20ed454d8c6"
      },
      "execution_count": 34,
      "outputs": [
        {
          "output_type": "stream",
          "name": "stdout",
          "text": [
            "\n",
            "--- Head of the Data ---\n",
            "    V1  V2  V3    V4 V5 V6\n",
            "1  355 883 681 10680  2 -9\n",
            "2  355 884 681 10680  1 -9\n",
            "3 3004 885 682 10681  2 -9\n",
            "4 3155 886 683 10682  1 -9\n",
            "5 1629 887 684 10683  2 -9\n",
            "6 1747 888 685 10684  2 -9\n",
            "\n",
            "--- Dimensions of the Data ---\n",
            "[1] 4861    6\n"
          ]
        }
      ]
    },
    {
      "cell_type": "code",
      "source": [
        "%%R\n",
        "# Read and display SNP info\n",
        "snp_info <- read_and_display(\"https://faculty.washington.edu/tathornt/sisg/Transferrin.bim\", sep=\"\\t\")"
      ],
      "metadata": {
        "colab": {
          "base_uri": "https://localhost:8080/"
        },
        "id": "4kWmhh5a9HRJ",
        "outputId": "669bfc21-51f8-4006-fb67-a5240d5679dc"
      },
      "execution_count": 35,
      "outputs": [
        {
          "output_type": "stream",
          "name": "stdout",
          "text": [
            "\n",
            "--- Head of the Data ---\n",
            "  V1         V2 V3      V4 V5 V6\n",
            "1  1  rs3934834  0  995669  T  C\n",
            "2  1  rs3737728  0 1011278  A  G\n",
            "3  1  rs6687776  0 1020428  T  C\n",
            "4  1  rs9651273  0 1021403  A  G\n",
            "5  1  rs4970405  0 1038818  G  A\n",
            "6  1 rs12726255  0 1039813  G  A\n",
            "\n",
            "--- Dimensions of the Data ---\n",
            "[1] 281313      6\n"
          ]
        }
      ]
    },
    {
      "cell_type": "code",
      "source": [
        "%%R\n",
        "# Read and display Transferrin phenotype info\n",
        "tpheno_info <- read_and_display(\"https://faculty.washington.edu/tathornt/sisg/Tr.pheno\", col_names=c(\"FAMID\", \"ID\", \"Transferrin\"))\n",
        "cat(\"\\n--- Summary of Transferrin ---\\n\")\n",
        "print(summary(tpheno_info[[\"Transferrin\"]]))\n",
        "cat(\"\\n--- NA counts in Transferrin ---\\n\")\n",
        "print(table(is.na(tpheno_info[[\"Transferrin\"]])))\n",
        "hist(tpheno_info[[\"Transferrin\"]], xlab=\"Transferrin\", main=\"Histogram of Transferrin\")"
      ],
      "metadata": {
        "colab": {
          "base_uri": "https://localhost:8080/",
          "height": 878
        },
        "id": "gMwtRHo09IoS",
        "outputId": "3e1053aa-d3da-4914-f843-8fe616290917"
      },
      "execution_count": 36,
      "outputs": [
        {
          "output_type": "stream",
          "name": "stdout",
          "text": [
            "\n",
            "--- Head of the Data ---\n",
            "  FAMID  ID Transferrin\n",
            "1   355 883      -0.815\n",
            "2   355 884          NA\n",
            "3  3004 885          NA\n",
            "4  3155 886      -0.299\n",
            "5  1629 887          NA\n",
            "6  1747 888       1.182\n",
            "\n",
            "--- Dimensions of the Data ---\n",
            "[1] 4861    3\n",
            "\n",
            "--- Summary of Transferrin ---\n",
            "   Min. 1st Qu.  Median    Mean 3rd Qu.    Max.    NA's \n",
            "-3.4960 -0.6195 -0.0450  0.0335  0.5818  4.5150    2499 \n",
            "\n",
            "--- NA counts in Transferrin ---\n",
            "\n",
            "FALSE  TRUE \n",
            " 2362  2499 \n"
          ]
        },
        {
          "output_type": "display_data",
          "data": {
            "image/png": "[encoded data removed]"
          },
          "metadata": {}
        }
      ]
    },
    {
      "cell_type": "code",
      "source": [
        "%%R\n",
        "# Read and display height phenotype info\n",
        "hpheno_info <- read_and_display(\"https://faculty.washington.edu/tathornt/sisg/Ht.pheno\", col_names=c(\"FAMID\", \"ID\", \"Height\"))\n",
        "cat(\"\\n--- Summary of Height ---\\n\")\n",
        "print(summary(hpheno_info[[\"Height\"]]))\n",
        "cat(\"\\n--- NA counts in Height ---\\n\")\n",
        "print(table(is.na(hpheno_info[[\"Height\"]])))\n",
        "hist(hpheno_info[[\"Height\"]], xlab=\"Height\", main=\"Histogram of Height\")"
      ],
      "metadata": {
        "colab": {
          "base_uri": "https://localhost:8080/",
          "height": 878
        },
        "id": "PU7Dtars9KQR",
        "outputId": "ff7e6b6d-0466-4ba1-d483-8de8241f3171"
      },
      "execution_count": 39,
      "outputs": [
        {
          "output_type": "stream",
          "name": "stdout",
          "text": [
            "\n",
            "--- Head of the Data ---\n",
            "  FAMID  ID      Height\n",
            "1   355 883          NA\n",
            "2   355 884 -1.01219122\n",
            "3  3004 885 -1.11122366\n",
            "4  3155 886          NA\n",
            "5  1629 887 -0.04663134\n",
            "6  1747 888  1.59969343\n",
            "\n",
            "--- Dimensions of the Data ---\n",
            "[1] 4861    3\n",
            "\n",
            "--- Summary of Height ---\n",
            "   Min. 1st Qu.  Median    Mean 3rd Qu.    Max.    NA's \n",
            "-4.0274 -0.7340 -0.0299 -0.0204  0.6232  4.5077    2025 \n",
            "\n",
            "--- NA counts in Height ---\n",
            "\n",
            "FALSE  TRUE \n",
            " 2836  2025 \n"
          ]
        },
        {
          "output_type": "display_data",
          "data": {
            "image/png": "[encoded data removed]"
          },
          "metadata": {}
        }
      ]
    },
    {
      "cell_type": "code",
      "source": [
        "%%bash\n",
        "\n",
        "# Download required data files (Replace the LINK placeholders with actual links)\n",
        "wget https://faculty.washington.edu/tathornt/sisg/Transferrin.bim -O Transferrin.bim\n",
        "wget https://faculty.washington.edu/tathornt/sisg/Transferrin.fam -O Transferrin.fam\n",
        "wget https://faculty.washington.edu/tathornt/sisg/Tr.pheno -O Tr.pheno\n",
        "wget https://faculty.washington.edu/tathornt/sisg/Ht.pheno -O Ht.pheno\n",
        "\n",
        "# Convert bam to bed\n",
        "bedtools bamtobed -i Transferrin.fam > sample.bed\n",
        "\n",
        "###  ASSOCIATION ANALYSIS with Transferrin  Phenotype ###\n",
        "plink --bfile Transferrin --pheno Tr.pheno --maf 0.05 --geno 0.01 --hwe 0.001 --assoc --out GWAS_T_add\n",
        "\n",
        "###  ASSOCIATION ANALYSIS with Height Phenotype ###\n",
        "plink --bfile Transferrin --pheno Ht.pheno --maf 0.05 --geno 0.01 --hwe 0.001 --assoc --out GWAS_H_add\n",
        "\n",
        "### LD of top association SNPs for Transferrin and Height ###\n",
        "plink --bfile Transferrin --extract SNPlistTransferrin.txt --r2 --out LD_T_Subset\n",
        "plink --bfile Transferrin --extract SNPlistHeight.txt --r2 --out LD_H_Subset\n"
      ],
      "metadata": {
        "colab": {
          "base_uri": "https://localhost:8080/",
          "height": 1000
        },
        "id": "yAr3dSrf-LKB",
        "outputId": "97979876-4d33-479e-889c-3ab551608769"
      },
      "execution_count": 42,
      "outputs": [
        {
          "output_type": "stream",
          "name": "stdout",
          "text": [
            "PLINK v1.90b6.21 64-bit (19 Oct 2020)          www.cog-genomics.org/plink/1.9/\n",
            "(C) 2005-2020 Shaun Purcell, Christopher Chang   GNU General Public License v3\n",
            "Logging to GWAS_T_add.log.\n",
            "Options in effect:\n",
            "  --assoc\n",
            "  --bfile Transferrin\n",
            "  --geno 0.01\n",
            "  --hwe 0.001\n",
            "  --maf 0.05\n",
            "  --out GWAS_T_add\n",
            "  --pheno Tr.pheno\n",
            "\n",
            "12982 MB RAM detected; reserving 6491 MB for main workspace.\n",
            "PLINK v1.90b6.21 64-bit (19 Oct 2020)          www.cog-genomics.org/plink/1.9/\n",
            "(C) 2005-2020 Shaun Purcell, Christopher Chang   GNU General Public License v3\n",
            "Logging to GWAS_H_add.log.\n",
            "Options in effect:\n",
            "  --assoc\n",
            "  --bfile Transferrin\n",
            "  --geno 0.01\n",
            "  --hwe 0.001\n",
            "  --maf 0.05\n",
            "  --out GWAS_H_add\n",
            "  --pheno Ht.pheno\n",
            "\n",
            "12982 MB RAM detected; reserving 6491 MB for main workspace.\n",
            "PLINK v1.90b6.21 64-bit (19 Oct 2020)          www.cog-genomics.org/plink/1.9/\n",
            "(C) 2005-2020 Shaun Purcell, Christopher Chang   GNU General Public License v3\n",
            "Logging to LD_T_Subset.log.\n",
            "Options in effect:\n",
            "  --bfile Transferrin\n",
            "  --extract SNPlistTransferrin.txt\n",
            "  --out LD_T_Subset\n",
            "  --r2\n",
            "\n",
            "12982 MB RAM detected; reserving 6491 MB for main workspace.\n",
            "PLINK v1.90b6.21 64-bit (19 Oct 2020)          www.cog-genomics.org/plink/1.9/\n",
            "(C) 2005-2020 Shaun Purcell, Christopher Chang   GNU General Public License v3\n",
            "Logging to LD_H_Subset.log.\n",
            "Options in effect:\n",
            "  --bfile Transferrin\n",
            "  --extract SNPlistHeight.txt\n",
            "  --out LD_H_Subset\n",
            "  --r2\n",
            "\n",
            "12982 MB RAM detected; reserving 6491 MB for main workspace.\n"
          ]
        },
        {
          "output_type": "stream",
          "name": "stderr",
          "text": [
            "--2023-08-14 03:14:25--  https://faculty.washington.edu/tathornt/sisg/Transferrin.bim\n",
            "Resolving faculty.washington.edu (faculty.washington.edu)... 128.208.60.35, 140.142.214.168\n",
            "Connecting to faculty.washington.edu (faculty.washington.edu)|128.208.60.35|:443... connected.\n",
            "HTTP request sent, awaiting response... 200 \n",
            "Length: 7787053 (7.4M)\n",
            "Saving to: ‘Transferrin.bim’\n",
            "\n",
            "     0K .......... .......... .......... .......... ..........  0%  385K 20s\n",
            "    50K .......... .......... .......... .......... ..........  1%  800K 14s\n",
            "   100K .......... .......... .......... .......... ..........  1% 28.6M 10s\n",
            "   150K .......... .......... .......... .......... ..........  2% 1.79M 8s\n",
            "   200K .......... .......... .......... .......... ..........  3% 1.36M 8s\n",
            "   250K .......... .......... .......... .......... ..........  3% 54.2M 6s\n",
            "   300K .......... .......... .......... .......... ..........  4%  134M 5s\n",
            "   350K .......... .......... .......... .......... ..........  5% 1.80M 5s\n",
            "   400K .......... .......... .......... .......... ..........  5%  185M 5s\n",
            "   450K .......... .......... .......... .......... ..........  6% 1.40M 5s\n",
            "   500K .......... .......... .......... .......... ..........  7%  237M 4s\n",
            "   550K .......... .......... .......... .......... ..........  7% 89.7M 4s\n",
            "   600K .......... .......... .......... .......... ..........  8%  114M 3s\n",
            "   650K .......... .......... .......... .......... ..........  9%  196M 3s\n",
            "   700K .......... .......... .......... .......... ..........  9% 86.5M 3s\n",
            "   750K .......... .......... .......... .......... .......... 10%  213M 3s\n",
            "   800K .......... .......... .......... .......... .......... 11% 1.84M 3s\n",
            "   850K .......... .......... .......... .......... .......... 11%  248M 3s\n",
            "   900K .......... .......... .......... .......... .......... 12% 83.9M 2s\n",
            "   950K .......... .......... .......... .......... .......... 13% 1.44M 3s\n",
            "  1000K .......... .......... .......... .......... .......... 13%  146M 2s\n",
            "  1050K .......... .......... .......... .......... .......... 14%  202M 2s\n",
            "  1100K .......... .......... .......... .......... .......... 15%  180M 2s\n",
            "  1150K .......... .......... .......... .......... .......... 15%  124M 2s\n",
            "  1200K .......... .......... .......... .......... .......... 16%  181M 2s\n",
            "  1250K .......... .......... .......... .......... .......... 17%  120M 2s\n",
            "  1300K .......... .......... .......... .......... .......... 17%  177M 2s\n",
            "  1350K .......... .......... .......... .......... .......... 18%  197M 2s\n",
            "  1400K .......... .......... .......... .......... .......... 19%  255M 2s\n",
            "  1450K .......... .......... .......... .......... .......... 19%  208M 2s\n",
            "  1500K .......... .......... .......... .......... .......... 20%  224M 2s\n",
            "  1550K .......... .......... .......... .......... .......... 21%  199M 1s\n",
            "  1600K .......... .......... .......... .......... .......... 21%  223M 1s\n",
            "  1650K .......... .......... .......... .......... .......... 22% 1.93M 1s\n",
            "  1700K .......... .......... .......... .......... .......... 23%  132M 1s\n",
            "  1750K .......... .......... .......... .......... .......... 23%  156M 1s\n",
            "  1800K .......... .......... .......... .......... .......... 24%  243M 1s\n",
            "  1850K .......... .......... .......... .......... .......... 24%  183M 1s\n",
            "  1900K .......... .......... .......... .......... .......... 25%  265M 1s\n",
            "  1950K .......... .......... .......... .......... .......... 26% 1.45M 1s\n",
            "  2000K .......... .......... .......... .......... .......... 26%  141M 1s\n",
            "  2050K .......... .......... .......... .......... .......... 27%  177M 1s\n",
            "  2100K .......... .......... .......... .......... .......... 28%  308M 1s\n",
            "  2150K .......... .......... .......... .......... .......... 28%  119M 1s\n",
            "  2200K .......... .......... .......... .......... .......... 29%  320M 1s\n",
            "  2250K .......... .......... .......... .......... .......... 30%  156M 1s\n",
            "  2300K .......... .......... .......... .......... .......... 30% 64.1M 1s\n",
            "  2350K .......... .......... .......... .......... .......... 31% 92.5M 1s\n",
            "  2400K .......... .......... .......... .......... .......... 32%  236M 1s\n",
            "  2450K .......... .......... .......... .......... .......... 32%  323M 1s\n",
            "  2500K .......... .......... .......... .......... .......... 33%  335M 1s\n",
            "  2550K .......... .......... .......... .......... .......... 34%  283M 1s\n",
            "  2600K .......... .......... .......... .......... .......... 34%  342M 1s\n",
            "  2650K .......... .......... .......... .......... .......... 35%  309M 1s\n",
            "  2700K .......... .......... .......... .......... .......... 36%  103M 1s\n",
            "  2750K .......... .......... .......... .......... .......... 36% 40.9M 1s\n",
            "  2800K .......... .......... .......... .......... .......... 37% 57.2M 1s\n",
            "  2850K .......... .......... .......... .......... .......... 38% 61.3M 1s\n",
            "  2900K .......... .......... .......... .......... .......... 38% 64.4M 1s\n",
            "  2950K .......... .......... .......... .......... .......... 39%  172M 1s\n",
            "  3000K .......... .......... .......... .......... .......... 40%  370M 1s\n",
            "  3050K .......... .......... .......... .......... .......... 40%  363M 1s\n",
            "  3100K .......... .......... .......... .......... .......... 41%  342M 1s\n",
            "  3150K .......... .......... .......... .......... .......... 42%  266M 1s\n",
            "  3200K .......... .......... .......... .......... .......... 42%  215M 1s\n",
            "  3250K .......... .......... .......... .......... .......... 43%  270M 1s\n",
            "  3300K .......... .......... .......... .......... .......... 44%  289M 1s\n",
            "  3350K .......... .......... .......... .......... .......... 44%  247M 1s\n",
            "  3400K .......... .......... .......... .......... .......... 45% 2.45M 1s\n",
            "  3450K .......... .......... .......... .......... .......... 46% 59.8M 1s\n",
            "  3500K .......... .......... .......... .......... .......... 46% 55.8M 1s\n",
            "  3550K .......... .......... .......... .......... .......... 47% 56.2M 1s\n",
            "  3600K .......... .......... .......... .......... .......... 47% 53.6M 1s\n",
            "  3650K .......... .......... .......... .......... .......... 48% 61.6M 1s\n",
            "  3700K .......... .......... .......... .......... .......... 49% 63.3M 0s\n",
            "  3750K .......... .......... .......... .......... .......... 49% 69.2M 0s\n",
            "  3800K .......... .......... .......... .......... .......... 50%  355M 0s\n",
            "  3850K .......... .......... .......... .......... .......... 51%  360M 0s\n",
            "  3900K .......... .......... .......... .......... .......... 51%  378M 0s\n",
            "  3950K .......... .......... .......... .......... .......... 52% 1.65M 0s\n",
            "  4000K .......... .......... .......... .......... .......... 53% 42.1M 0s\n",
            "  4050K .......... .......... .......... .......... .......... 53%  328M 0s\n",
            "  4100K .......... .......... .......... .......... .......... 54%  344M 0s\n",
            "  4150K .......... .......... .......... .......... .......... 55%  328M 0s\n",
            "  4200K .......... .......... .......... .......... .......... 55%  311M 0s\n",
            "  4250K .......... .......... .......... .......... .......... 56%  289M 0s\n",
            "  4300K .......... .......... .......... .......... .......... 57%  350M 0s\n",
            "  4350K .......... .......... .......... .......... .......... 57%  295M 0s\n",
            "  4400K .......... .......... .......... .......... .......... 58%  374M 0s\n",
            "  4450K .......... .......... .......... .......... .......... 59%  352M 0s\n",
            "  4500K .......... .......... .......... .......... .......... 59%  348M 0s\n",
            "  4550K .......... .......... .......... .......... .......... 60%  168M 0s\n",
            "  4600K .......... .......... .......... .......... .......... 61%  283M 0s\n",
            "  4650K .......... .......... .......... .......... .......... 61%  345M 0s\n",
            "  4700K .......... .......... .......... .......... .......... 62%  324M 0s\n",
            "  4750K .......... .......... .......... .......... .......... 63%  288M 0s\n",
            "  4800K .......... .......... .......... .......... .......... 63%  349M 0s\n",
            "  4850K .......... .......... .......... .......... .......... 64%  307M 0s\n",
            "  4900K .......... .......... .......... .......... .......... 65%  335M 0s\n",
            "  4950K .......... .......... .......... .......... .......... 65%  256M 0s\n",
            "  5000K .......... .......... .......... .......... .......... 66%  353M 0s\n",
            "  5050K .......... .......... .......... .......... .......... 67%  345M 0s\n",
            "  5100K .......... .......... .......... .......... .......... 67%  355M 0s\n",
            "  5150K .......... .......... .......... .......... .......... 68%  225M 0s\n",
            "  5200K .......... .......... .......... .......... .......... 69%  246M 0s\n",
            "  5250K .......... .......... .......... .......... .......... 69%  353M 0s\n",
            "  5300K .......... .......... .......... .......... .......... 70%  321M 0s\n",
            "  5350K .......... .......... .......... .......... .......... 71%  311M 0s\n",
            "  5400K .......... .......... .......... .......... .......... 71%  332M 0s\n",
            "  5450K .......... .......... .......... .......... .......... 72%  351M 0s\n",
            "  5500K .......... .......... .......... .......... .......... 72% 67.1M 0s\n",
            "  5550K .......... .......... .......... .......... .......... 73% 43.5M 0s\n",
            "  5600K .......... .......... .......... .......... .......... 74% 63.4M 0s\n",
            "  5650K .......... .......... .......... .......... .......... 74% 63.2M 0s\n",
            "  5700K .......... .......... .......... .......... .......... 75% 66.0M 0s\n",
            "  5750K .......... .......... .......... .......... .......... 76% 54.8M 0s\n",
            "  5800K .......... .......... .......... .......... .......... 76% 65.0M 0s\n",
            "  5850K .......... .......... .......... .......... .......... 77% 64.7M 0s\n",
            "  5900K .......... .......... .......... .......... .......... 78% 64.5M 0s\n",
            "  5950K .......... .......... .......... .......... .......... 78% 56.6M 0s\n",
            "  6000K .......... .......... .......... .......... .......... 79% 66.0M 0s\n",
            "  6050K .......... .......... .......... .......... .......... 80% 65.7M 0s\n",
            "  6100K .......... .......... .......... .......... .......... 80% 63.4M 0s\n",
            "  6150K .......... .......... .......... .......... .......... 81% 58.1M 0s\n",
            "  6200K .......... .......... .......... .......... .......... 82% 65.0M 0s\n",
            "  6250K .......... .......... .......... .......... .......... 82% 64.1M 0s\n",
            "  6300K .......... .......... .......... .......... .......... 83% 5.32M 0s\n",
            "  6350K .......... .......... .......... .......... .......... 84% 55.6M 0s\n",
            "  6400K .......... .......... .......... .......... .......... 84% 59.8M 0s\n",
            "  6450K .......... .......... .......... .......... .......... 85% 58.0M 0s\n",
            "  6500K .......... .......... .......... .......... .......... 86%  123M 0s\n",
            "  6550K .......... .......... .......... .......... .......... 86%  305M 0s\n",
            "  6600K .......... .......... .......... .......... .......... 87% 58.2M 0s\n",
            "  6650K .......... .......... .......... .......... .......... 88% 90.1M 0s\n",
            "  6700K .......... .......... .......... .......... .......... 88% 1.61M 0s\n",
            "  6750K .......... .......... .......... .......... .......... 89% 37.5M 0s\n",
            "  6800K .......... .......... .......... .......... .......... 90%  202M 0s\n",
            "  6850K .......... .......... .......... .......... .......... 90%  298M 0s\n",
            "  6900K .......... .......... .......... .......... .......... 91%  352M 0s\n",
            "  6950K .......... .......... .......... .......... .......... 92%  322M 0s\n",
            "  7000K .......... .......... .......... .......... .......... 92%  375M 0s\n",
            "  7050K .......... .......... .......... .......... .......... 93%  347M 0s\n",
            "  7100K .......... .......... .......... .......... .......... 94%  323M 0s\n",
            "  7150K .......... .......... .......... .......... .......... 94%  289M 0s\n",
            "  7200K .......... .......... .......... .......... .......... 95%  333M 0s\n",
            "  7250K .......... .......... .......... .......... .......... 95%  345M 0s\n",
            "  7300K .......... .......... .......... .......... .......... 96%  350M 0s\n",
            "  7350K .......... .......... .......... .......... .......... 97%  318M 0s\n",
            "  7400K .......... .......... .......... .......... .......... 97%  346M 0s\n",
            "  7450K .......... .......... .......... .......... .......... 98% 72.5M 0s\n",
            "  7500K .......... .......... .......... .......... .......... 99% 64.2M 0s\n",
            "  7550K .......... .......... .......... .......... .......... 99% 55.2M 0s\n",
            "  7600K ....                                                  100% 8.46T=0.6s\n",
            "\n",
            "2023-08-14 03:14:26 (12.8 MB/s) - ‘Transferrin.bim’ saved [7787053/7787053]\n",
            "\n",
            "--2023-08-14 03:14:26--  https://faculty.washington.edu/tathornt/sisg/Transferrin.fam\n",
            "Resolving faculty.washington.edu (faculty.washington.edu)... 128.208.60.35, 140.142.214.168\n",
            "Connecting to faculty.washington.edu (faculty.washington.edu)|128.208.60.35|:443... connected.\n",
            "HTTP request sent, awaiting response... 200 \n",
            "Length: 126193 (123K)\n",
            "Saving to: ‘Transferrin.fam’\n",
            "\n",
            "     0K .......... .......... .......... .......... .......... 40%  401K 0s\n",
            "    50K .......... .......... .......... .......... .......... 81%  811K 0s\n",
            "   100K .......... .......... ...                             100% 40.1M=0.2s\n",
            "\n",
            "2023-08-14 03:14:27 (659 KB/s) - ‘Transferrin.fam’ saved [126193/126193]\n",
            "\n",
            "--2023-08-14 03:14:27--  https://faculty.washington.edu/tathornt/sisg/Tr.pheno\n",
            "Resolving faculty.washington.edu (faculty.washington.edu)... 128.208.60.35, 140.142.214.168\n",
            "Connecting to faculty.washington.edu (faculty.washington.edu)|128.208.60.35|:443... connected.\n",
            "HTTP request sent, awaiting response... 200 \n",
            "Length: 68827 (67K)\n",
            "Saving to: ‘Tr.pheno’\n",
            "\n",
            "     0K .......... .......... .......... .......... .......... 74%  403K 0s\n",
            "    50K .......... .......                                    100% 42.0M=0.1s\n",
            "\n",
            "2023-08-14 03:14:27 (541 KB/s) - ‘Tr.pheno’ saved [68827/68827]\n",
            "\n",
            "--2023-08-14 03:14:27--  https://faculty.washington.edu/tathornt/sisg/Ht.pheno\n",
            "Resolving faculty.washington.edu (faculty.washington.edu)... 128.208.60.35, 140.142.214.168\n",
            "Connecting to faculty.washington.edu (faculty.washington.edu)|128.208.60.35|:443... connected.\n",
            "HTTP request sent, awaiting response... 200 \n",
            "Length: 103721 (101K)\n",
            "Saving to: ‘Ht.pheno’\n",
            "\n",
            "     0K .......... .......... .......... .......... .......... 49%  394K 0s\n",
            "    50K .......... .......... .......... .......... .......... 98% 1.45M 0s\n",
            "   100K .                                                     100% 2.40T=0.2s\n",
            "\n",
            "2023-08-14 03:14:28 (630 KB/s) - ‘Ht.pheno’ saved [103721/103721]\n",
            "\n",
            "Error: Failed to open Transferrin.bed.\n",
            "Error: Failed to open Transferrin.bed.\n",
            "Error: Failed to open Transferrin.bed.\n",
            "Error: Failed to open Transferrin.bed.\n"
          ]
        },
        {
          "output_type": "error",
          "ename": "CalledProcessError",
          "evalue": "ignored",
          "traceback": [
            "\u001b[0;31m---------------------------------------------------------------------------\u001b[0m",
            "\u001b[0;31mCalledProcessError\u001b[0m                        Traceback (most recent call last)",
            "\u001b[0;32m<ipython-input-42-0c326e0a0c11>\u001b[0m in \u001b[0;36m<cell line: 1>\u001b[0;34m()\u001b[0m\n\u001b[0;32m----> 1\u001b[0;31m \u001b[0mget_ipython\u001b[0m\u001b[0;34m(\u001b[0m\u001b[0;34m)\u001b[0m\u001b[0;34m.\u001b[0m\u001b[0mrun_cell_magic\u001b[0m\u001b[0;34m(\u001b[0m\u001b[0;34m'bash'\u001b[0m\u001b[0;34m,\u001b[0m \u001b[0;34m''\u001b[0m\u001b[0;34m,\u001b[0m \u001b[0;34m'\\n# Download required data files (Replace the LINK placeholders with actual links)\\nwget https://faculty.washington.edu/tathornt/sisg/Transferrin.bim -O Transferrin.bim\\nwget https://faculty.washington.edu/tathornt/sisg/Transferrin.fam -O Transferrin.fam\\nwget https://faculty.washington.edu/tathornt/sisg/Tr.pheno -O Tr.pheno\\nwget https://faculty.washington.edu/tathornt/sisg/Ht.pheno -O Ht.pheno\\n\\n###  ASSOCIATION ANALYSIS with Transferrin  Phenotype ###\\nplink --bfile Transferrin --pheno Tr.pheno --maf 0.05 --geno 0.01 --hwe 0.001 --assoc --out GWAS_T_add\\n\\n###  ASSOCIATION ANALYSIS with Height Phenotype ###\\nplink --bfile Transferrin --pheno Ht.pheno --maf 0.05 --geno 0.01 --hwe 0.001 --assoc --out GWAS_H_add\\n\\n### LD of top association SNPs for Transferrin and Height ###\\nplink --bfile Transferrin --extract SNPlistTransferrin.txt --r2 --out LD_T_Subset\\nplink --bfile Transferrin --extract SNPlistHeight.txt --r2 --out LD_H_Subset\\n'\u001b[0m\u001b[0;34m)\u001b[0m\u001b[0;34m\u001b[0m\u001b[0;34m\u001b[0m\u001b[0m\n\u001b[0m",
            "\u001b[0;32m/usr/local/lib/python3.10/dist-packages/google/colab/_shell.py\u001b[0m in \u001b[0;36mrun_cell_magic\u001b[0;34m(self, magic_name, line, cell)\u001b[0m\n\u001b[1;32m    332\u001b[0m     \u001b[0;32mif\u001b[0m \u001b[0mline\u001b[0m \u001b[0;32mand\u001b[0m \u001b[0;32mnot\u001b[0m \u001b[0mcell\u001b[0m\u001b[0;34m:\u001b[0m\u001b[0;34m\u001b[0m\u001b[0;34m\u001b[0m\u001b[0m\n\u001b[1;32m    333\u001b[0m       \u001b[0mcell\u001b[0m \u001b[0;34m=\u001b[0m \u001b[0;34m' '\u001b[0m\u001b[0;34m\u001b[0m\u001b[0;34m\u001b[0m\u001b[0m\n\u001b[0;32m--> 334\u001b[0;31m     \u001b[0;32mreturn\u001b[0m \u001b[0msuper\u001b[0m\u001b[0;34m(\u001b[0m\u001b[0;34m)\u001b[0m\u001b[0;34m.\u001b[0m\u001b[0mrun_cell_magic\u001b[0m\u001b[0;34m(\u001b[0m\u001b[0mmagic_name\u001b[0m\u001b[0;34m,\u001b[0m \u001b[0mline\u001b[0m\u001b[0;34m,\u001b[0m \u001b[0mcell\u001b[0m\u001b[0;34m)\u001b[0m\u001b[0;34m\u001b[0m\u001b[0;34m\u001b[0m\u001b[0m\n\u001b[0m\u001b[1;32m    335\u001b[0m \u001b[0;34m\u001b[0m\u001b[0m\n\u001b[1;32m    336\u001b[0m \u001b[0;34m\u001b[0m\u001b[0m\n",
            "\u001b[0;32m/usr/local/lib/python3.10/dist-packages/IPython/core/interactiveshell.py\u001b[0m in \u001b[0;36mrun_cell_magic\u001b[0;34m(self, magic_name, line, cell)\u001b[0m\n\u001b[1;32m   2471\u001b[0m             \u001b[0;32mwith\u001b[0m \u001b[0mself\u001b[0m\u001b[0;34m.\u001b[0m\u001b[0mbuiltin_trap\u001b[0m\u001b[0;34m:\u001b[0m\u001b[0;34m\u001b[0m\u001b[0;34m\u001b[0m\u001b[0m\n\u001b[1;32m   2472\u001b[0m                 \u001b[0margs\u001b[0m \u001b[0;34m=\u001b[0m \u001b[0;34m(\u001b[0m\u001b[0mmagic_arg_s\u001b[0m\u001b[0;34m,\u001b[0m \u001b[0mcell\u001b[0m\u001b[0;34m)\u001b[0m\u001b[0;34m\u001b[0m\u001b[0;34m\u001b[0m\u001b[0m\n\u001b[0;32m-> 2473\u001b[0;31m                 \u001b[0mresult\u001b[0m \u001b[0;34m=\u001b[0m \u001b[0mfn\u001b[0m\u001b[0;34m(\u001b[0m\u001b[0;34m*\u001b[0m\u001b[0margs\u001b[0m\u001b[0;34m,\u001b[0m \u001b[0;34m**\u001b[0m\u001b[0mkwargs\u001b[0m\u001b[0;34m)\u001b[0m\u001b[0;34m\u001b[0m\u001b[0;34m\u001b[0m\u001b[0m\n\u001b[0m\u001b[1;32m   2474\u001b[0m             \u001b[0;32mreturn\u001b[0m \u001b[0mresult\u001b[0m\u001b[0;34m\u001b[0m\u001b[0;34m\u001b[0m\u001b[0m\n\u001b[1;32m   2475\u001b[0m \u001b[0;34m\u001b[0m\u001b[0m\n",
            "\u001b[0;32m/usr/local/lib/python3.10/dist-packages/IPython/core/magics/script.py\u001b[0m in \u001b[0;36mnamed_script_magic\u001b[0;34m(line, cell)\u001b[0m\n\u001b[1;32m    140\u001b[0m             \u001b[0;32melse\u001b[0m\u001b[0;34m:\u001b[0m\u001b[0;34m\u001b[0m\u001b[0;34m\u001b[0m\u001b[0m\n\u001b[1;32m    141\u001b[0m                 \u001b[0mline\u001b[0m \u001b[0;34m=\u001b[0m \u001b[0mscript\u001b[0m\u001b[0;34m\u001b[0m\u001b[0;34m\u001b[0m\u001b[0m\n\u001b[0;32m--> 142\u001b[0;31m             \u001b[0;32mreturn\u001b[0m \u001b[0mself\u001b[0m\u001b[0;34m.\u001b[0m\u001b[0mshebang\u001b[0m\u001b[0;34m(\u001b[0m\u001b[0mline\u001b[0m\u001b[0;34m,\u001b[0m \u001b[0mcell\u001b[0m\u001b[0;34m)\u001b[0m\u001b[0;34m\u001b[0m\u001b[0;34m\u001b[0m\u001b[0m\n\u001b[0m\u001b[1;32m    143\u001b[0m \u001b[0;34m\u001b[0m\u001b[0m\n\u001b[1;32m    144\u001b[0m         \u001b[0;31m# write a basic docstring:\u001b[0m\u001b[0;34m\u001b[0m\u001b[0;34m\u001b[0m\u001b[0m\n",
            "\u001b[0;32m<decorator-gen-103>\u001b[0m in \u001b[0;36mshebang\u001b[0;34m(self, line, cell)\u001b[0m\n",
            "\u001b[0;32m/usr/local/lib/python3.10/dist-packages/IPython/core/magic.py\u001b[0m in \u001b[0;36m<lambda>\u001b[0;34m(f, *a, **k)\u001b[0m\n\u001b[1;32m    185\u001b[0m     \u001b[0;31m# but it's overkill for just that one bit of state.\u001b[0m\u001b[0;34m\u001b[0m\u001b[0;34m\u001b[0m\u001b[0m\n\u001b[1;32m    186\u001b[0m     \u001b[0;32mdef\u001b[0m \u001b[0mmagic_deco\u001b[0m\u001b[0;34m(\u001b[0m\u001b[0marg\u001b[0m\u001b[0;34m)\u001b[0m\u001b[0;34m:\u001b[0m\u001b[0;34m\u001b[0m\u001b[0;34m\u001b[0m\u001b[0m\n\u001b[0;32m--> 187\u001b[0;31m         \u001b[0mcall\u001b[0m \u001b[0;34m=\u001b[0m \u001b[0;32mlambda\u001b[0m \u001b[0mf\u001b[0m\u001b[0;34m,\u001b[0m \u001b[0;34m*\u001b[0m\u001b[0ma\u001b[0m\u001b[0;34m,\u001b[0m \u001b[0;34m**\u001b[0m\u001b[0mk\u001b[0m\u001b[0;34m:\u001b[0m \u001b[0mf\u001b[0m\u001b[0;34m(\u001b[0m\u001b[0;34m*\u001b[0m\u001b[0ma\u001b[0m\u001b[0;34m,\u001b[0m \u001b[0;34m**\u001b[0m\u001b[0mk\u001b[0m\u001b[0;34m)\u001b[0m\u001b[0;34m\u001b[0m\u001b[0;34m\u001b[0m\u001b[0m\n\u001b[0m\u001b[1;32m    188\u001b[0m \u001b[0;34m\u001b[0m\u001b[0m\n\u001b[1;32m    189\u001b[0m         \u001b[0;32mif\u001b[0m \u001b[0mcallable\u001b[0m\u001b[0;34m(\u001b[0m\u001b[0marg\u001b[0m\u001b[0;34m)\u001b[0m\u001b[0;34m:\u001b[0m\u001b[0;34m\u001b[0m\u001b[0;34m\u001b[0m\u001b[0m\n",
            "\u001b[0;32m/usr/local/lib/python3.10/dist-packages/IPython/core/magics/script.py\u001b[0m in \u001b[0;36mshebang\u001b[0;34m(self, line, cell)\u001b[0m\n\u001b[1;32m    243\u001b[0m             \u001b[0msys\u001b[0m\u001b[0;34m.\u001b[0m\u001b[0mstderr\u001b[0m\u001b[0;34m.\u001b[0m\u001b[0mflush\u001b[0m\u001b[0;34m(\u001b[0m\u001b[0;34m)\u001b[0m\u001b[0;34m\u001b[0m\u001b[0;34m\u001b[0m\u001b[0m\n\u001b[1;32m    244\u001b[0m         \u001b[0;32mif\u001b[0m \u001b[0margs\u001b[0m\u001b[0;34m.\u001b[0m\u001b[0mraise_error\u001b[0m \u001b[0;32mand\u001b[0m \u001b[0mp\u001b[0m\u001b[0;34m.\u001b[0m\u001b[0mreturncode\u001b[0m\u001b[0;34m!=\u001b[0m\u001b[0;36m0\u001b[0m\u001b[0;34m:\u001b[0m\u001b[0;34m\u001b[0m\u001b[0;34m\u001b[0m\u001b[0m\n\u001b[0;32m--> 245\u001b[0;31m             \u001b[0;32mraise\u001b[0m \u001b[0mCalledProcessError\u001b[0m\u001b[0;34m(\u001b[0m\u001b[0mp\u001b[0m\u001b[0;34m.\u001b[0m\u001b[0mreturncode\u001b[0m\u001b[0;34m,\u001b[0m \u001b[0mcell\u001b[0m\u001b[0;34m,\u001b[0m \u001b[0moutput\u001b[0m\u001b[0;34m=\u001b[0m\u001b[0mout\u001b[0m\u001b[0;34m,\u001b[0m \u001b[0mstderr\u001b[0m\u001b[0;34m=\u001b[0m\u001b[0merr\u001b[0m\u001b[0;34m)\u001b[0m\u001b[0;34m\u001b[0m\u001b[0;34m\u001b[0m\u001b[0m\n\u001b[0m\u001b[1;32m    246\u001b[0m \u001b[0;34m\u001b[0m\u001b[0m\n\u001b[1;32m    247\u001b[0m     \u001b[0;32mdef\u001b[0m \u001b[0m_run_script\u001b[0m\u001b[0;34m(\u001b[0m\u001b[0mself\u001b[0m\u001b[0;34m,\u001b[0m \u001b[0mp\u001b[0m\u001b[0;34m,\u001b[0m \u001b[0mcell\u001b[0m\u001b[0;34m,\u001b[0m \u001b[0mto_close\u001b[0m\u001b[0;34m)\u001b[0m\u001b[0;34m:\u001b[0m\u001b[0;34m\u001b[0m\u001b[0;34m\u001b[0m\u001b[0m\n",
            "\u001b[0;31mCalledProcessError\u001b[0m: Command 'b'\\n# Download required data files (Replace the LINK placeholders with actual links)\\nwget https://faculty.washington.edu/tathornt/sisg/Transferrin.bim -O Transferrin.bim\\nwget https://faculty.washington.edu/tathornt/sisg/Transferrin.fam -O Transferrin.fam\\nwget https://faculty.washington.edu/tathornt/sisg/Tr.pheno -O Tr.pheno\\nwget https://faculty.washington.edu/tathornt/sisg/Ht.pheno -O Ht.pheno\\n\\n###  ASSOCIATION ANALYSIS with Transferrin  Phenotype ###\\nplink --bfile Transferrin --pheno Tr.pheno --maf 0.05 --geno 0.01 --hwe 0.001 --assoc --out GWAS_T_add\\n\\n###  ASSOCIATION ANALYSIS with Height Phenotype ###\\nplink --bfile Transferrin --pheno Ht.pheno --maf 0.05 --geno 0.01 --hwe 0.001 --assoc --out GWAS_H_add\\n\\n### LD of top association SNPs for Transferrin and Height ###\\nplink --bfile Transferrin --extract SNPlistTransferrin.txt --r2 --out LD_T_Subset\\nplink --bfile Transferrin --extract SNPlistHeight.txt --r2 --out LD_H_Subset\\n'' returned non-zero exit status 2."
          ]
        }
      ]
    },
    {
      "cell_type": "code",
      "source": [],
      "metadata": {
        "id": "I9HDTaaxATpH"
      },
      "execution_count": null,
      "outputs": []
    }
  ]
}